{
 "cells": [
  {
   "cell_type": "markdown",
   "metadata": {},
   "source": [
    "# Airline Delay Economics Analysis\n",
    "## Which Airlines Deliver the Best Value for Money?\n",
    "\n",
    "**Goal:** Translate flight delay data into an economic efficiency metric to determine which airlines and airports offer the best \"value for money\" in on-time performance.\n",
    "\n",
    "**Dataset:** Bureau of Transportation Statistics — Airline On-Time Performance Data\n",
    "\n",
    "**Analysis Pipeline:**\n",
    "1. Data Loading & Cleaning\n",
    "2. Feature Computation (delay costs, efficiency metrics)\n",
    "3. Aggregation (airline-level and airport-level summaries)\n",
    "4. Regression Analysis (distance vs delay relationship)\n",
    "5. Export for Tableau visualization"
   ]
  },
  {
   "cell_type": "markdown",
   "metadata": {},
   "source": [
    "## 1. Setup & Imports"
   ]
  },
  {
   "cell_type": "code",
   "execution_count": 1,
   "metadata": {},
   "outputs": [
    {
     "name": "stdout",
     "output_type": "stream",
     "text": [
      "✓ Imports complete\n"
     ]
    }
   ],
   "source": [
    "import pandas as pd\n",
    "import numpy as np\n",
    "import matplotlib.pyplot as plt\n",
    "import seaborn as sns\n",
    "from sklearn.linear_model import LinearRegression\n",
    "from sklearn.metrics import r2_score\n",
    "import warnings\n",
    "warnings.filterwarnings('ignore')\n",
    "\n",
    "# Set display options\n",
    "pd.set_option('display.max_columns', None)\n",
    "pd.set_option('display.float_format', '{:.2f}'.format)\n",
    "\n",
    "# Set visualization style\n",
    "sns.set_style('whitegrid')\n",
    "plt.rcParams['figure.figsize'] = (12, 6)\n",
    "\n",
    "print(\"✓ Imports complete\")"
   ]
  },
  {
   "cell_type": "markdown",
   "metadata": {},
   "source": [
    "## 2. Data Loading\n",
    "\n",
    "**Note:** Place your BTS CSV file in the `../data/` directory.\n",
    "\n",
    "Expected columns:\n",
    "- `Carrier` (airline code)\n",
    "- `Origin`, `Dest` (airport codes)\n",
    "- `ArrDelay`, `DepDelay` (in minutes)\n",
    "- `Distance` (in miles)\n",
    "- `Month`, `Year`"
   ]
  },
  {
   "cell_type": "code",
   "execution_count": 2,
   "metadata": {},
   "outputs": [
    {
     "ename": "ValueError",
     "evalue": "Usecols do not match columns, columns expected but not found: ['ArrDelay', 'Carrier', 'Distance', 'Cancelled', 'Diverted', 'Origin', 'Month', 'Dest', 'DepDelay', 'DayofMonth', 'Year']",
     "output_type": "error",
     "traceback": [
      "\u001b[31m---------------------------------------------------------------------------\u001b[39m",
      "\u001b[31mValueError\u001b[39m                                Traceback (most recent call last)",
      "\u001b[36mCell\u001b[39m\u001b[36m \u001b[39m\u001b[32mIn[2]\u001b[39m\u001b[32m, line 14\u001b[39m\n\u001b[32m     11\u001b[39m data_file = \u001b[33m'\u001b[39m\u001b[33m../data/airline_ontime.csv\u001b[39m\u001b[33m'\u001b[39m  \u001b[38;5;66;03m# Update this path\u001b[39;00m\n\u001b[32m     13\u001b[39m \u001b[38;5;28;01mtry\u001b[39;00m:\n\u001b[32m---> \u001b[39m\u001b[32m14\u001b[39m     df = \u001b[43mpd\u001b[49m\u001b[43m.\u001b[49m\u001b[43mread_csv\u001b[49m\u001b[43m(\u001b[49m\u001b[43mdata_file\u001b[49m\u001b[43m,\u001b[49m\u001b[43m \u001b[49m\u001b[43musecols\u001b[49m\u001b[43m=\u001b[49m\u001b[43mcolumns_to_load\u001b[49m\u001b[43m,\u001b[49m\u001b[43m \u001b[49m\u001b[43mlow_memory\u001b[49m\u001b[43m=\u001b[49m\u001b[38;5;28;43;01mFalse\u001b[39;49;00m\u001b[43m)\u001b[49m\n\u001b[32m     15\u001b[39m     \u001b[38;5;28mprint\u001b[39m(\u001b[33mf\u001b[39m\u001b[33m\"\u001b[39m\u001b[33m✓ Data loaded: \u001b[39m\u001b[38;5;132;01m{\u001b[39;00m\u001b[38;5;28mlen\u001b[39m(df)\u001b[38;5;132;01m:\u001b[39;00m\u001b[33m,\u001b[39m\u001b[38;5;132;01m}\u001b[39;00m\u001b[33m rows\u001b[39m\u001b[33m\"\u001b[39m)\n\u001b[32m     16\u001b[39m     \u001b[38;5;28mprint\u001b[39m(\u001b[33mf\u001b[39m\u001b[33m\"\u001b[39m\u001b[33m✓ Memory usage: \u001b[39m\u001b[38;5;132;01m{\u001b[39;00mdf.memory_usage(deep=\u001b[38;5;28;01mTrue\u001b[39;00m).sum()\u001b[38;5;250m \u001b[39m/\u001b[38;5;250m \u001b[39m\u001b[32m1024\u001b[39m**\u001b[32m2\u001b[39m\u001b[38;5;132;01m:\u001b[39;00m\u001b[33m.1f\u001b[39m\u001b[38;5;132;01m}\u001b[39;00m\u001b[33m MB\u001b[39m\u001b[33m\"\u001b[39m)\n",
      "\u001b[36mFile \u001b[39m\u001b[32m~/Delaynomics/.venv/lib/python3.11/site-packages/pandas/io/parsers/readers.py:1026\u001b[39m, in \u001b[36mread_csv\u001b[39m\u001b[34m(filepath_or_buffer, sep, delimiter, header, names, index_col, usecols, dtype, engine, converters, true_values, false_values, skipinitialspace, skiprows, skipfooter, nrows, na_values, keep_default_na, na_filter, verbose, skip_blank_lines, parse_dates, infer_datetime_format, keep_date_col, date_parser, date_format, dayfirst, cache_dates, iterator, chunksize, compression, thousands, decimal, lineterminator, quotechar, quoting, doublequote, escapechar, comment, encoding, encoding_errors, dialect, on_bad_lines, delim_whitespace, low_memory, memory_map, float_precision, storage_options, dtype_backend)\u001b[39m\n\u001b[32m   1013\u001b[39m kwds_defaults = _refine_defaults_read(\n\u001b[32m   1014\u001b[39m     dialect,\n\u001b[32m   1015\u001b[39m     delimiter,\n\u001b[32m   (...)\u001b[39m\u001b[32m   1022\u001b[39m     dtype_backend=dtype_backend,\n\u001b[32m   1023\u001b[39m )\n\u001b[32m   1024\u001b[39m kwds.update(kwds_defaults)\n\u001b[32m-> \u001b[39m\u001b[32m1026\u001b[39m \u001b[38;5;28;01mreturn\u001b[39;00m \u001b[43m_read\u001b[49m\u001b[43m(\u001b[49m\u001b[43mfilepath_or_buffer\u001b[49m\u001b[43m,\u001b[49m\u001b[43m \u001b[49m\u001b[43mkwds\u001b[49m\u001b[43m)\u001b[49m\n",
      "\u001b[36mFile \u001b[39m\u001b[32m~/Delaynomics/.venv/lib/python3.11/site-packages/pandas/io/parsers/readers.py:620\u001b[39m, in \u001b[36m_read\u001b[39m\u001b[34m(filepath_or_buffer, kwds)\u001b[39m\n\u001b[32m    617\u001b[39m _validate_names(kwds.get(\u001b[33m\"\u001b[39m\u001b[33mnames\u001b[39m\u001b[33m\"\u001b[39m, \u001b[38;5;28;01mNone\u001b[39;00m))\n\u001b[32m    619\u001b[39m \u001b[38;5;66;03m# Create the parser.\u001b[39;00m\n\u001b[32m--> \u001b[39m\u001b[32m620\u001b[39m parser = \u001b[43mTextFileReader\u001b[49m\u001b[43m(\u001b[49m\u001b[43mfilepath_or_buffer\u001b[49m\u001b[43m,\u001b[49m\u001b[43m \u001b[49m\u001b[43m*\u001b[49m\u001b[43m*\u001b[49m\u001b[43mkwds\u001b[49m\u001b[43m)\u001b[49m\n\u001b[32m    622\u001b[39m \u001b[38;5;28;01mif\u001b[39;00m chunksize \u001b[38;5;129;01mor\u001b[39;00m iterator:\n\u001b[32m    623\u001b[39m     \u001b[38;5;28;01mreturn\u001b[39;00m parser\n",
      "\u001b[36mFile \u001b[39m\u001b[32m~/Delaynomics/.venv/lib/python3.11/site-packages/pandas/io/parsers/readers.py:1620\u001b[39m, in \u001b[36mTextFileReader.__init__\u001b[39m\u001b[34m(self, f, engine, **kwds)\u001b[39m\n\u001b[32m   1617\u001b[39m     \u001b[38;5;28mself\u001b[39m.options[\u001b[33m\"\u001b[39m\u001b[33mhas_index_names\u001b[39m\u001b[33m\"\u001b[39m] = kwds[\u001b[33m\"\u001b[39m\u001b[33mhas_index_names\u001b[39m\u001b[33m\"\u001b[39m]\n\u001b[32m   1619\u001b[39m \u001b[38;5;28mself\u001b[39m.handles: IOHandles | \u001b[38;5;28;01mNone\u001b[39;00m = \u001b[38;5;28;01mNone\u001b[39;00m\n\u001b[32m-> \u001b[39m\u001b[32m1620\u001b[39m \u001b[38;5;28mself\u001b[39m._engine = \u001b[38;5;28;43mself\u001b[39;49m\u001b[43m.\u001b[49m\u001b[43m_make_engine\u001b[49m\u001b[43m(\u001b[49m\u001b[43mf\u001b[49m\u001b[43m,\u001b[49m\u001b[43m \u001b[49m\u001b[38;5;28;43mself\u001b[39;49m\u001b[43m.\u001b[49m\u001b[43mengine\u001b[49m\u001b[43m)\u001b[49m\n",
      "\u001b[36mFile \u001b[39m\u001b[32m~/Delaynomics/.venv/lib/python3.11/site-packages/pandas/io/parsers/readers.py:1898\u001b[39m, in \u001b[36mTextFileReader._make_engine\u001b[39m\u001b[34m(self, f, engine)\u001b[39m\n\u001b[32m   1895\u001b[39m     \u001b[38;5;28;01mraise\u001b[39;00m \u001b[38;5;167;01mValueError\u001b[39;00m(msg)\n\u001b[32m   1897\u001b[39m \u001b[38;5;28;01mtry\u001b[39;00m:\n\u001b[32m-> \u001b[39m\u001b[32m1898\u001b[39m     \u001b[38;5;28;01mreturn\u001b[39;00m \u001b[43mmapping\u001b[49m\u001b[43m[\u001b[49m\u001b[43mengine\u001b[49m\u001b[43m]\u001b[49m\u001b[43m(\u001b[49m\u001b[43mf\u001b[49m\u001b[43m,\u001b[49m\u001b[43m \u001b[49m\u001b[43m*\u001b[49m\u001b[43m*\u001b[49m\u001b[38;5;28;43mself\u001b[39;49m\u001b[43m.\u001b[49m\u001b[43moptions\u001b[49m\u001b[43m)\u001b[49m\n\u001b[32m   1899\u001b[39m \u001b[38;5;28;01mexcept\u001b[39;00m \u001b[38;5;167;01mException\u001b[39;00m:\n\u001b[32m   1900\u001b[39m     \u001b[38;5;28;01mif\u001b[39;00m \u001b[38;5;28mself\u001b[39m.handles \u001b[38;5;129;01mis\u001b[39;00m \u001b[38;5;129;01mnot\u001b[39;00m \u001b[38;5;28;01mNone\u001b[39;00m:\n",
      "\u001b[36mFile \u001b[39m\u001b[32m~/Delaynomics/.venv/lib/python3.11/site-packages/pandas/io/parsers/c_parser_wrapper.py:140\u001b[39m, in \u001b[36mCParserWrapper.__init__\u001b[39m\u001b[34m(self, src, **kwds)\u001b[39m\n\u001b[32m    136\u001b[39m \u001b[38;5;28;01massert\u001b[39;00m \u001b[38;5;28mself\u001b[39m.orig_names \u001b[38;5;129;01mis\u001b[39;00m \u001b[38;5;129;01mnot\u001b[39;00m \u001b[38;5;28;01mNone\u001b[39;00m\n\u001b[32m    137\u001b[39m \u001b[38;5;28;01mif\u001b[39;00m \u001b[38;5;28mself\u001b[39m.usecols_dtype == \u001b[33m\"\u001b[39m\u001b[33mstring\u001b[39m\u001b[33m\"\u001b[39m \u001b[38;5;129;01mand\u001b[39;00m \u001b[38;5;129;01mnot\u001b[39;00m \u001b[38;5;28mset\u001b[39m(usecols).issubset(\n\u001b[32m    138\u001b[39m     \u001b[38;5;28mself\u001b[39m.orig_names\n\u001b[32m    139\u001b[39m ):\n\u001b[32m--> \u001b[39m\u001b[32m140\u001b[39m     \u001b[38;5;28;43mself\u001b[39;49m\u001b[43m.\u001b[49m\u001b[43m_validate_usecols_names\u001b[49m\u001b[43m(\u001b[49m\u001b[43musecols\u001b[49m\u001b[43m,\u001b[49m\u001b[43m \u001b[49m\u001b[38;5;28;43mself\u001b[39;49m\u001b[43m.\u001b[49m\u001b[43morig_names\u001b[49m\u001b[43m)\u001b[49m\n\u001b[32m    142\u001b[39m \u001b[38;5;66;03m# error: Cannot determine type of 'names'\u001b[39;00m\n\u001b[32m    143\u001b[39m \u001b[38;5;28;01mif\u001b[39;00m \u001b[38;5;28mlen\u001b[39m(\u001b[38;5;28mself\u001b[39m.names) > \u001b[38;5;28mlen\u001b[39m(usecols):  \u001b[38;5;66;03m# type: ignore[has-type]\u001b[39;00m\n\u001b[32m    144\u001b[39m     \u001b[38;5;66;03m# error: Cannot determine type of 'names'\u001b[39;00m\n",
      "\u001b[36mFile \u001b[39m\u001b[32m~/Delaynomics/.venv/lib/python3.11/site-packages/pandas/io/parsers/base_parser.py:988\u001b[39m, in \u001b[36mParserBase._validate_usecols_names\u001b[39m\u001b[34m(self, usecols, names)\u001b[39m\n\u001b[32m    986\u001b[39m missing = [c \u001b[38;5;28;01mfor\u001b[39;00m c \u001b[38;5;129;01min\u001b[39;00m usecols \u001b[38;5;28;01mif\u001b[39;00m c \u001b[38;5;129;01mnot\u001b[39;00m \u001b[38;5;129;01min\u001b[39;00m names]\n\u001b[32m    987\u001b[39m \u001b[38;5;28;01mif\u001b[39;00m \u001b[38;5;28mlen\u001b[39m(missing) > \u001b[32m0\u001b[39m:\n\u001b[32m--> \u001b[39m\u001b[32m988\u001b[39m     \u001b[38;5;28;01mraise\u001b[39;00m \u001b[38;5;167;01mValueError\u001b[39;00m(\n\u001b[32m    989\u001b[39m         \u001b[33mf\u001b[39m\u001b[33m\"\u001b[39m\u001b[33mUsecols do not match columns, columns expected but not found: \u001b[39m\u001b[33m\"\u001b[39m\n\u001b[32m    990\u001b[39m         \u001b[33mf\u001b[39m\u001b[33m\"\u001b[39m\u001b[38;5;132;01m{\u001b[39;00mmissing\u001b[38;5;132;01m}\u001b[39;00m\u001b[33m\"\u001b[39m\n\u001b[32m    991\u001b[39m     )\n\u001b[32m    993\u001b[39m \u001b[38;5;28;01mreturn\u001b[39;00m usecols\n",
      "\u001b[31mValueError\u001b[39m: Usecols do not match columns, columns expected but not found: ['ArrDelay', 'Carrier', 'Distance', 'Cancelled', 'Diverted', 'Origin', 'Month', 'Dest', 'DepDelay', 'DayofMonth', 'Year']"
     ]
    }
   ],
   "source": [
    "# Define columns to load (memory efficient)\n",
    "columns_to_load = [\n",
    "    'Year', 'Month', 'DayofMonth',\n",
    "    'Carrier', 'Origin', 'Dest',\n",
    "    'ArrDelay', 'DepDelay', 'Distance',\n",
    "    'Cancelled', 'Diverted'\n",
    "]\n",
    "\n",
    "# Load data\n",
    "# NOTE: Update the filename to match your downloaded BTS data\n",
    "data_file = '../data/airline_ontime.csv'  # Update this path\n",
    "\n",
    "try:\n",
    "    df = pd.read_csv(data_file, usecols=columns_to_load, low_memory=False)\n",
    "    print(f\"✓ Data loaded: {len(df):,} rows\")\n",
    "    print(f\"✓ Memory usage: {df.memory_usage(deep=True).sum() / 1024**2:.1f} MB\")\n",
    "except FileNotFoundError:\n",
    "    print(\"❌ Data file not found. Please download BTS data and place it in ../data/\")\n",
    "    print(\"   Download from: https://catalog.data.gov/dataset/airline-on-time-performance-data\")\n",
    "    df = None"
   ]
  },
  {
   "cell_type": "code",
   "execution_count": null,
   "metadata": {},
   "outputs": [],
   "source": [
    "# Display first few rows and basic info\n",
    "if df is not None:\n",
    "    display(df.head())\n",
    "    print(\"\\nDataset Info:\")\n",
    "    df.info()"
   ]
  },
  {
   "cell_type": "markdown",
   "metadata": {},
   "source": [
    "## 3. Data Cleaning"
   ]
  },
  {
   "cell_type": "code",
   "execution_count": null,
   "metadata": {},
   "outputs": [],
   "source": [
    "if df is not None:\n",
    "    print(f\"Starting rows: {len(df):,}\\n\")\n",
    "    \n",
    "    # Step 1: Remove cancelled and diverted flights\n",
    "    df_clean = df[(df['Cancelled'] == 0) & (df['Diverted'] == 0)].copy()\n",
    "    print(f\"After removing cancelled/diverted: {len(df_clean):,} rows\")\n",
    "    \n",
    "    # Step 2: Remove rows with missing delay values\n",
    "    df_clean = df_clean.dropna(subset=['ArrDelay', 'DepDelay', 'Distance'])\n",
    "    print(f\"After removing missing values: {len(df_clean):,} rows\")\n",
    "    \n",
    "    # Step 3: Filter out extreme outliers (delays > 500 minutes or < -60 minutes)\n",
    "    df_clean = df_clean[\n",
    "        (df_clean['ArrDelay'] >= -60) & \n",
    "        (df_clean['ArrDelay'] <= 500) &\n",
    "        (df_clean['Distance'] > 0)\n",
    "    ]\n",
    "    print(f\"After removing outliers: {len(df_clean):,} rows\")\n",
    "    \n",
    "    # Step 4: Filter to top carriers and airports for MVP\n",
    "    top_carriers = df_clean['Carrier'].value_counts().head(5).index\n",
    "    top_airports = df_clean['Origin'].value_counts().head(10).index\n",
    "    \n",
    "    df_mvp = df_clean[\n",
    "        df_clean['Carrier'].isin(top_carriers) &\n",
    "        df_clean['Origin'].isin(top_airports)\n",
    "    ].copy()\n",
    "    \n",
    "    print(f\"\\nMVP subset (top 5 carriers, top 10 airports): {len(df_mvp):,} rows\")\n",
    "    print(f\"\\nTop 5 Carriers: {list(top_carriers)}\")\n",
    "    print(f\"Top 10 Airports: {list(top_airports)}\")\n",
    "    \n",
    "    # Clean up\n",
    "    df = df_mvp\n",
    "    del df_clean, df_mvp\n",
    "    \n",
    "    print(\"\\n✓ Data cleaning complete\")"
   ]
  },
  {
   "cell_type": "markdown",
   "metadata": {},
   "source": [
    "## 4. Feature Computation\n",
    "\n",
    "Create economic efficiency metrics:\n",
    "- `delay_cost`: Cost in USD based on FAA estimate ($74/minute)\n",
    "- `cost_per_mile`: Normalized efficiency metric\n",
    "- `is_delayed`: Binary flag for delays > 15 minutes"
   ]
  },
  {
   "cell_type": "code",
   "execution_count": null,
   "metadata": {},
   "outputs": [],
   "source": [
    "if df is not None:\n",
    "    # FAA estimated cost per minute of delay\n",
    "    COST_PER_MINUTE = 74\n",
    "    \n",
    "    # Compute delay cost (only for positive delays)\n",
    "    df['delay_cost'] = df['ArrDelay'].apply(lambda x: max(0, x) * COST_PER_MINUTE)\n",
    "    \n",
    "    # Compute cost per mile (normalized efficiency metric)\n",
    "    df['cost_per_mile'] = df['delay_cost'] / df['Distance']\n",
    "    \n",
    "    # Binary flag for significant delays (> 15 minutes)\n",
    "    df['is_delayed'] = (df['ArrDelay'] > 15).astype(int)\n",
    "    \n",
    "    # Display sample of new features\n",
    "    print(\"Sample of computed features:\\n\")\n",
    "    display(df[['Carrier', 'Origin', 'ArrDelay', 'Distance', 'delay_cost', 'cost_per_mile', 'is_delayed']].head(10))\n",
    "    \n",
    "    print(\"\\n✓ Feature computation complete\")"
   ]
  },
  {
   "cell_type": "markdown",
   "metadata": {},
   "source": [
    "## 5. Airline-Level Aggregation"
   ]
  },
  {
   "cell_type": "code",
   "execution_count": null,
   "metadata": {},
   "outputs": [],
   "source": [
    "if df is not None:\n",
    "    airline_summary = df.groupby('Carrier').agg({\n",
    "        'ArrDelay': ['mean', 'median', 'std'],\n",
    "        'delay_cost': ['mean', 'sum'],\n",
    "        'cost_per_mile': 'mean',\n",
    "        'is_delayed': ['sum', 'mean'],  # count and rate\n",
    "        'Distance': 'mean',\n",
    "        'Carrier': 'count'  # number of flights\n",
    "    }).reset_index()\n",
    "    \n",
    "    # Flatten column names\n",
    "    airline_summary.columns = [\n",
    "        'Carrier', \n",
    "        'avg_delay_min', 'median_delay_min', 'std_delay_min',\n",
    "        'avg_delay_cost', 'total_delay_cost',\n",
    "        'avg_cost_per_mile',\n",
    "        'num_delayed_flights', 'delay_rate',\n",
    "        'avg_distance',\n",
    "        'num_flights'\n",
    "    ]\n",
    "    \n",
    "    # Sort by cost per mile (efficiency)\n",
    "    airline_summary = airline_summary.sort_values('avg_cost_per_mile')\n",
    "    \n",
    "    print(\"Airline Performance Summary:\\n\")\n",
    "    display(airline_summary)\n",
    "    \n",
    "    # Export for Tableau\n",
    "    airline_summary.to_csv('../outputs/airline_summary.csv', index=False)\n",
    "    print(\"\\n✓ Airline summary exported to outputs/airline_summary.csv\")"
   ]
  },
  {
   "cell_type": "markdown",
   "metadata": {},
   "source": [
    "## 6. Airport-Level Aggregation"
   ]
  },
  {
   "cell_type": "code",
   "execution_count": null,
   "metadata": {},
   "outputs": [],
   "source": [
    "if df is not None:\n",
    "    airport_summary = df.groupby('Origin').agg({\n",
    "        'ArrDelay': ['mean', 'median'],\n",
    "        'delay_cost': ['mean', 'sum'],\n",
    "        'cost_per_mile': 'mean',\n",
    "        'is_delayed': 'mean',\n",
    "        'Origin': 'count'\n",
    "    }).reset_index()\n",
    "    \n",
    "    # Flatten column names\n",
    "    airport_summary.columns = [\n",
    "        'Airport',\n",
    "        'avg_delay_min', 'median_delay_min',\n",
    "        'avg_delay_cost', 'total_delay_cost',\n",
    "        'avg_cost_per_mile',\n",
    "        'delay_rate',\n",
    "        'num_flights'\n",
    "    ]\n",
    "    \n",
    "    # Sort by cost per mile\n",
    "    airport_summary = airport_summary.sort_values('avg_cost_per_mile')\n",
    "    \n",
    "    print(\"Airport Performance Summary:\\n\")\n",
    "    display(airport_summary)\n",
    "    \n",
    "    # Export for Tableau\n",
    "    airport_summary.to_csv('../outputs/airport_summary.csv', index=False)\n",
    "    print(\"\\n✓ Airport summary exported to outputs/airport_summary.csv\")"
   ]
  },
  {
   "cell_type": "markdown",
   "metadata": {},
   "source": [
    "## 7. Simple Linear Regression: Distance vs Delay\n",
    "\n",
    "**Question:** Does flight distance predict arrival delay?\n",
    "\n",
    "This provides analytical rigor by testing whether longer flights experience systematically different delays."
   ]
  },
  {
   "cell_type": "code",
   "execution_count": null,
   "metadata": {},
   "outputs": [],
   "source": [
    "if df is not None:\n",
    "    # Prepare data for regression\n",
    "    X = df[['Distance']].values\n",
    "    y = df['ArrDelay'].values\n",
    "    \n",
    "    # Fit linear regression model\n",
    "    model = LinearRegression()\n",
    "    model.fit(X, y)\n",
    "    \n",
    "    # Get predictions and metrics\n",
    "    y_pred = model.predict(X)\n",
    "    r2 = r2_score(y, y_pred)\n",
    "    \n",
    "    # Print results\n",
    "    print(\"Linear Regression Results: ArrDelay ~ Distance\\n\")\n",
    "    print(f\"Intercept: {model.intercept_:.2f} minutes\")\n",
    "    print(f\"Slope: {model.coef_[0]:.4f} minutes per mile\")\n",
    "    print(f\"  → Extra delay per 100 miles: {model.coef_[0] * 100:.2f} minutes\")\n",
    "    print(f\"R²: {r2:.4f}\")\n",
    "    print(f\"  → Distance explains {r2*100:.2f}% of delay variability\")\n",
    "    \n",
    "    # Interpretation\n",
    "    print(\"\\n📊 Interpretation:\")\n",
    "    if model.coef_[0] > 0:\n",
    "        print(f\"  • Longer flights tend to have slightly higher delays\")\n",
    "        print(f\"  • For every 100 miles, delays increase by ~{model.coef_[0] * 100:.1f} minutes\")\n",
    "    else:\n",
    "        print(f\"  • Longer flights tend to have slightly lower delays (possibly due to time cushion)\")\n",
    "    \n",
    "    if r2 < 0.05:\n",
    "        print(f\"  • Distance is a weak predictor (R²={r2:.3f})\")\n",
    "        print(f\"  • Other factors (weather, congestion, carrier) likely more important\")\n",
    "    \n",
    "    print(\"\\n✓ Regression analysis complete\")"
   ]
  },
  {
   "cell_type": "markdown",
   "metadata": {},
   "source": [
    "## 8. Visualization: Regression Plot"
   ]
  },
  {
   "cell_type": "code",
   "execution_count": null,
   "metadata": {},
   "outputs": [],
   "source": [
    "if df is not None:\n",
    "    # Create scatter plot with regression line\n",
    "    plt.figure(figsize=(12, 6))\n",
    "    \n",
    "    # Sample for visualization (too many points otherwise)\n",
    "    sample_df = df.sample(min(5000, len(df)), random_state=42)\n",
    "    \n",
    "    plt.scatter(sample_df['Distance'], sample_df['ArrDelay'], \n",
    "                alpha=0.3, s=10, label='Actual delays')\n",
    "    \n",
    "    # Plot regression line\n",
    "    X_range = np.array([[df['Distance'].min()], [df['Distance'].max()]])\n",
    "    y_range = model.predict(X_range)\n",
    "    plt.plot(X_range, y_range, 'r-', linewidth=2, \n",
    "             label=f'Regression line (R²={r2:.3f})')\n",
    "    \n",
    "    plt.xlabel('Distance (miles)', fontsize=12)\n",
    "    plt.ylabel('Arrival Delay (minutes)', fontsize=12)\n",
    "    plt.title('Flight Distance vs Arrival Delay', fontsize=14, fontweight='bold')\n",
    "    plt.legend()\n",
    "    plt.grid(True, alpha=0.3)\n",
    "    \n",
    "    plt.tight_layout()\n",
    "    plt.savefig('../outputs/regression_plot.png', dpi=300, bbox_inches='tight')\n",
    "    plt.show()\n",
    "    \n",
    "    print(\"✓ Regression plot saved to outputs/regression_plot.png\")"
   ]
  },
  {
   "cell_type": "markdown",
   "metadata": {},
   "source": [
    "## 9. Summary Statistics & Key Insights"
   ]
  },
  {
   "cell_type": "code",
   "execution_count": null,
   "metadata": {},
   "outputs": [],
   "source": [
    "if df is not None:\n",
    "    print(\"=\"*60)\n",
    "    print(\"KEY INSIGHTS SUMMARY\")\n",
    "    print(\"=\"*60)\n",
    "    \n",
    "    # Overall statistics\n",
    "    total_flights = len(df)\n",
    "    total_delay_cost = df['delay_cost'].sum()\n",
    "    avg_delay = df['ArrDelay'].mean()\n",
    "    delay_rate = df['is_delayed'].mean()\n",
    "    \n",
    "    print(f\"\\n📈 OVERALL STATISTICS:\")\n",
    "    print(f\"  • Total flights analyzed: {total_flights:,}\")\n",
    "    print(f\"  • Average arrival delay: {avg_delay:.1f} minutes\")\n",
    "    print(f\"  • Delay rate (>15 min): {delay_rate*100:.1f}%\")\n",
    "    print(f\"  • Total delay cost: ${total_delay_cost:,.0f}\")\n",
    "    print(f\"  • Average cost per flight: ${total_delay_cost/total_flights:.2f}\")\n",
    "    \n",
    "    # Best and worst carriers\n",
    "    best_carrier = airline_summary.iloc[0]\n",
    "    worst_carrier = airline_summary.iloc[-1]\n",
    "    \n",
    "    print(f\"\\n🏆 BEST CARRIER (by cost per mile):\")\n",
    "    print(f\"  • {best_carrier['Carrier']}\")\n",
    "    print(f\"  • Avg delay: {best_carrier['avg_delay_min']:.1f} minutes\")\n",
    "    print(f\"  • Cost per mile: ${best_carrier['avg_cost_per_mile']:.2f}\")\n",
    "    print(f\"  • Delay rate: {best_carrier['delay_rate']*100:.1f}%\")\n",
    "    \n",
    "    print(f\"\\n⚠️ WORST CARRIER (by cost per mile):\")\n",
    "    print(f\"  • {worst_carrier['Carrier']}\")\n",
    "    print(f\"  • Avg delay: {worst_carrier['avg_delay_min']:.1f} minutes\")\n",
    "    print(f\"  • Cost per mile: ${worst_carrier['avg_cost_per_mile']:.2f}\")\n",
    "    print(f\"  • Delay rate: {worst_carrier['delay_rate']*100:.1f}%\")\n",
    "    \n",
    "    # Cost difference\n",
    "    cost_diff = worst_carrier['avg_cost_per_mile'] - best_carrier['avg_cost_per_mile']\n",
    "    pct_diff = (cost_diff / best_carrier['avg_cost_per_mile']) * 100\n",
    "    \n",
    "    print(f\"\\n💰 VALUE COMPARISON:\")\n",
    "    print(f\"  • {worst_carrier['Carrier']} costs ${cost_diff:.2f} more per mile than {best_carrier['Carrier']}\")\n",
    "    print(f\"  • That's {pct_diff:.0f}% higher cost per mile!\")\n",
    "    \n",
    "    # Best and worst airports\n",
    "    best_airport = airport_summary.iloc[0]\n",
    "    worst_airport = airport_summary.iloc[-1]\n",
    "    \n",
    "    print(f\"\\n🏆 MOST EFFICIENT AIRPORT:\")\n",
    "    print(f\"  • {best_airport['Airport']}\")\n",
    "    print(f\"  • Avg delay: {best_airport['avg_delay_min']:.1f} minutes\")\n",
    "    print(f\"  • Cost per mile: ${best_airport['avg_cost_per_mile']:.2f}\")\n",
    "    \n",
    "    print(f\"\\n⚠️ LEAST EFFICIENT AIRPORT:\")\n",
    "    print(f\"  • {worst_airport['Airport']}\")\n",
    "    print(f\"  • Avg delay: {worst_airport['avg_delay_min']:.1f} minutes\")\n",
    "    print(f\"  • Cost per mile: ${worst_airport['avg_cost_per_mile']:.2f}\")\n",
    "    \n",
    "    print(\"\\n\" + \"=\"*60)"
   ]
  },
  {
   "cell_type": "markdown",
   "metadata": {},
   "source": [
    "## 10. Export Complete Dataset for Tableau\n",
    "\n",
    "Export the full cleaned dataset with computed features for deeper Tableau analysis."
   ]
  },
  {
   "cell_type": "code",
   "execution_count": null,
   "metadata": {},
   "outputs": [],
   "source": [
    "if df is not None:\n",
    "    # Select relevant columns for Tableau\n",
    "    tableau_export = df[[\n",
    "        'Year', 'Month', 'DayofMonth',\n",
    "        'Carrier', 'Origin', 'Dest',\n",
    "        'Distance', 'ArrDelay', 'DepDelay',\n",
    "        'delay_cost', 'cost_per_mile', 'is_delayed'\n",
    "    ]].copy()\n",
    "    \n",
    "    # Export\n",
    "    tableau_export.to_csv('../outputs/full_dataset_for_tableau.csv', index=False)\n",
    "    \n",
    "    print(f\"✓ Full dataset exported: {len(tableau_export):,} rows\")\n",
    "    print(f\"✓ File: outputs/full_dataset_for_tableau.csv\")\n",
    "    print(f\"✓ Size: {tableau_export.memory_usage(deep=True).sum() / 1024**2:.1f} MB\")"
   ]
  },
  {
   "cell_type": "markdown",
   "metadata": {},
   "source": [
    "## 11. Next Steps for Tableau\n",
    "\n",
    "**Files ready for Tableau:**\n",
    "1. `outputs/airline_summary.csv` - Airline-level metrics\n",
    "2. `outputs/airport_summary.csv` - Airport-level metrics\n",
    "3. `outputs/full_dataset_for_tableau.csv` - Complete flight-level data\n",
    "\n",
    "**Recommended Tableau Visualizations:**\n",
    "1. **Bar Chart** - Average delay cost per airline (sorted)\n",
    "2. **Heatmap** - Airport vs Carrier delay costs\n",
    "3. **Line Chart** - Delay trends over time (if using multi-month data)\n",
    "4. **Scatter Plot** - Cost per mile vs Delay rate\n",
    "5. **KPI Cards** - Top performer, total cost impact, avg delay\n",
    "\n",
    "**Interactive Filters:**\n",
    "- Carrier selection\n",
    "- Airport selection\n",
    "- Month/time period\n",
    "- Distance ranges"
   ]
  },
  {
   "cell_type": "code",
   "execution_count": null,
   "metadata": {},
   "outputs": [],
   "source": []
  },
  {
   "cell_type": "code",
   "execution_count": null,
   "metadata": {},
   "outputs": [],
   "source": []
  },
  {
   "cell_type": "code",
   "execution_count": null,
   "metadata": {},
   "outputs": [],
   "source": []
  },
  {
   "cell_type": "code",
   "execution_count": null,
   "metadata": {},
   "outputs": [],
   "source": []
  },
  {
   "cell_type": "code",
   "execution_count": null,
   "metadata": {},
   "outputs": [],
   "source": []
  },
  {
   "cell_type": "code",
   "execution_count": null,
   "metadata": {},
   "outputs": [],
   "source": []
  },
  {
   "cell_type": "code",
   "execution_count": null,
   "metadata": {},
   "outputs": [],
   "source": []
  },
  {
   "cell_type": "code",
   "execution_count": null,
   "metadata": {},
   "outputs": [],
   "source": []
  },
  {
   "cell_type": "code",
   "execution_count": null,
   "metadata": {},
   "outputs": [],
   "source": []
  },
  {
   "cell_type": "code",
   "execution_count": null,
   "metadata": {},
   "outputs": [],
   "source": []
  }
 ],
 "metadata": {
  "kernelspec": {
   "display_name": "Python 3 (ipykernel)",
   "language": "python",
   "name": "python3"
  },
  "language_info": {
   "codemirror_mode": {
    "name": "ipython",
    "version": 3
   },
   "file_extension": ".py",
   "mimetype": "text/x-python",
   "name": "python",
   "nbconvert_exporter": "python",
   "pygments_lexer": "ipython3",
   "version": "3.11.13"
  }
 },
 "nbformat": 4,
 "nbformat_minor": 4
}
