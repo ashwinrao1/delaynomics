{
 "cells": [
  {
   "cell_type": "markdown",
   "metadata": {},
   "source": [
    "# Sample Data Generator\n",
    "\n",
    "This notebook generates synthetic flight data that mimics the BTS structure.\n",
    "Use this to test the analysis pipeline before downloading real BTS data.\n",
    "\n",
    "**Note:** This is synthetic data for testing only. For production analysis, use real BTS data."
   ]
  },
  {
   "cell_type": "code",
   "execution_count": 1,
   "metadata": {},
   "outputs": [
    {
     "name": "stdout",
     "output_type": "stream",
     "text": [
      "✓ Imports complete\n"
     ]
    }
   ],
   "source": [
    "import pandas as pd\n",
    "import numpy as np\n",
    "from datetime import datetime, timedelta\n",
    "\n",
    "print(\"✓ Imports complete\")"
   ]
  },
  {
   "cell_type": "markdown",
   "metadata": {},
   "source": [
    "## Configuration"
   ]
  },
  {
   "cell_type": "code",
   "execution_count": 2,
   "metadata": {},
   "outputs": [
    {
     "name": "stdout",
     "output_type": "stream",
     "text": [
      "Generating 50,000 flights for 1/2024\n",
      "Carriers: ['AA', 'DL', 'UA', 'WN', 'B6']\n",
      "Airports: ['ATL', 'DFW', 'DEN', 'ORD', 'LAX', 'CLT', 'MCO', 'LAS', 'PHX', 'SEA']\n"
     ]
    }
   ],
   "source": [
    "# Set random seed for reproducibility\n",
    "np.random.seed(42)\n",
    "\n",
    "# Configuration\n",
    "NUM_FLIGHTS = 50000  # Number of flights to generate\n",
    "YEAR = 2024\n",
    "MONTH = 1\n",
    "\n",
    "# Top carriers (realistic codes)\n",
    "CARRIERS = ['AA', 'DL', 'UA', 'WN', 'B6']  # American, Delta, United, Southwest, JetBlue\n",
    "\n",
    "# Top airports\n",
    "AIRPORTS = ['ATL', 'DFW', 'DEN', 'ORD', 'LAX', 'CLT', 'MCO', 'LAS', 'PHX', 'SEA']\n",
    "\n",
    "# Carrier-specific delay characteristics (mean delay in minutes)\n",
    "CARRIER_DELAY_MEANS = {\n",
    "    'AA': 8.5,\n",
    "    'DL': 6.2,\n",
    "    'UA': 9.1,\n",
    "    'WN': 7.8,\n",
    "    'B6': 11.3\n",
    "}\n",
    "\n",
    "print(f\"Generating {NUM_FLIGHTS:,} flights for {MONTH}/{YEAR}\")\n",
    "print(f\"Carriers: {CARRIERS}\")\n",
    "print(f\"Airports: {AIRPORTS}\")"
   ]
  },
  {
   "cell_type": "markdown",
   "metadata": {},
   "source": [
    "## Generate Flight Data"
   ]
  },
  {
   "cell_type": "code",
   "execution_count": 3,
   "metadata": {},
   "outputs": [
    {
     "name": "stdout",
     "output_type": "stream",
     "text": [
      "✓ Base data generated: 50,000 rows\n"
     ]
    }
   ],
   "source": [
    "# Generate base data\n",
    "data = {\n",
    "    'Year': [YEAR] * NUM_FLIGHTS,\n",
    "    'Month': [MONTH] * NUM_FLIGHTS,\n",
    "    'DayofMonth': np.random.randint(1, 32, NUM_FLIGHTS),\n",
    "    'Carrier': np.random.choice(CARRIERS, NUM_FLIGHTS),\n",
    "    'Origin': np.random.choice(AIRPORTS, NUM_FLIGHTS),\n",
    "    'Dest': np.random.choice(AIRPORTS, NUM_FLIGHTS),\n",
    "    'Distance': np.random.randint(200, 3000, NUM_FLIGHTS),\n",
    "    'Cancelled': np.random.choice([0, 1], NUM_FLIGHTS, p=[0.98, 0.02]),\n",
    "    'Diverted': np.random.choice([0, 1], NUM_FLIGHTS, p=[0.995, 0.005])\n",
    "}\n",
    "\n",
    "df = pd.DataFrame(data)\n",
    "\n",
    "print(f\"✓ Base data generated: {len(df):,} rows\")"
   ]
  },
  {
   "cell_type": "markdown",
   "metadata": {},
   "source": [
    "## Generate Realistic Delay Data\n",
    "\n",
    "Delays are modeled with:\n",
    "- Carrier-specific mean delays\n",
    "- Positive skew (occasional very long delays)\n",
    "- Distance correlation (slight increase with distance)\n",
    "- Random noise"
   ]
  },
  {
   "cell_type": "code",
   "execution_count": 4,
   "metadata": {},
   "outputs": [
    {
     "name": "stdout",
     "output_type": "stream",
     "text": [
      "✓ Delay data generated\n",
      "  • Mean arrival delay: 4.8 minutes\n",
      "  • Median arrival delay: 5.9 minutes\n",
      "  • Std arrival delay: 10.0 minutes\n"
     ]
    }
   ],
   "source": [
    "# Generate delays with carrier-specific characteristics\n",
    "def generate_delay(carrier, distance):\n",
    "    \"\"\"Generate realistic delay with carrier-specific mean and distance factor\"\"\"\n",
    "    base_delay = CARRIER_DELAY_MEANS[carrier]\n",
    "    distance_factor = distance / 1000  # Slight increase with distance\n",
    "    \n",
    "    # Use gamma distribution for positive skew (occasional long delays)\n",
    "    delay = np.random.gamma(2, base_delay/2) + distance_factor\n",
    "    \n",
    "    # Add chance of early arrival (negative delay)\n",
    "    if np.random.random() < 0.3:\n",
    "        delay = -np.random.uniform(0, 15)\n",
    "    \n",
    "    return delay\n",
    "\n",
    "# Apply delay generation\n",
    "df['ArrDelay'] = df.apply(\n",
    "    lambda row: generate_delay(row['Carrier'], row['Distance']), \n",
    "    axis=1\n",
    ")\n",
    "\n",
    "# Departure delay is correlated with arrival delay\n",
    "df['DepDelay'] = df['ArrDelay'] + np.random.normal(0, 5, NUM_FLIGHTS)\n",
    "\n",
    "# Set delays to NaN for cancelled/diverted flights\n",
    "df.loc[df['Cancelled'] == 1, ['ArrDelay', 'DepDelay']] = np.nan\n",
    "df.loc[df['Diverted'] == 1, ['ArrDelay', 'DepDelay']] = np.nan\n",
    "\n",
    "print(f\"✓ Delay data generated\")\n",
    "print(f\"  • Mean arrival delay: {df['ArrDelay'].mean():.1f} minutes\")\n",
    "print(f\"  • Median arrival delay: {df['ArrDelay'].median():.1f} minutes\")\n",
    "print(f\"  • Std arrival delay: {df['ArrDelay'].std():.1f} minutes\")"
   ]
  },
  {
   "cell_type": "markdown",
   "metadata": {},
   "source": [
    "## Data Quality Check"
   ]
  },
  {
   "cell_type": "code",
   "execution_count": 5,
   "metadata": {},
   "outputs": [
    {
     "name": "stdout",
     "output_type": "stream",
     "text": [
      "Data Quality Summary:\n",
      "\n",
      "<class 'pandas.core.frame.DataFrame'>\n",
      "RangeIndex: 50000 entries, 0 to 49999\n",
      "Data columns (total 11 columns):\n",
      " #   Column      Non-Null Count  Dtype  \n",
      "---  ------      --------------  -----  \n",
      " 0   Year        50000 non-null  int64  \n",
      " 1   Month       50000 non-null  int64  \n",
      " 2   DayofMonth  50000 non-null  int64  \n",
      " 3   Carrier     50000 non-null  object \n",
      " 4   Origin      50000 non-null  object \n",
      " 5   Dest        50000 non-null  object \n",
      " 6   Distance    50000 non-null  int64  \n",
      " 7   Cancelled   50000 non-null  int64  \n",
      " 8   Diverted    50000 non-null  int64  \n",
      " 9   ArrDelay    48755 non-null  float64\n",
      " 10  DepDelay    48755 non-null  float64\n",
      "dtypes: float64(2), int64(6), object(3)\n",
      "memory usage: 4.2+ MB\n",
      "None\n",
      "\n",
      "First 10 rows:\n"
     ]
    },
    {
     "data": {
      "text/html": [
       "<div>\n",
       "<style scoped>\n",
       "    .dataframe tbody tr th:only-of-type {\n",
       "        vertical-align: middle;\n",
       "    }\n",
       "\n",
       "    .dataframe tbody tr th {\n",
       "        vertical-align: top;\n",
       "    }\n",
       "\n",
       "    .dataframe thead th {\n",
       "        text-align: right;\n",
       "    }\n",
       "</style>\n",
       "<table border=\"1\" class=\"dataframe\">\n",
       "  <thead>\n",
       "    <tr style=\"text-align: right;\">\n",
       "      <th></th>\n",
       "      <th>Year</th>\n",
       "      <th>Month</th>\n",
       "      <th>DayofMonth</th>\n",
       "      <th>Carrier</th>\n",
       "      <th>Origin</th>\n",
       "      <th>Dest</th>\n",
       "      <th>Distance</th>\n",
       "      <th>Cancelled</th>\n",
       "      <th>Diverted</th>\n",
       "      <th>ArrDelay</th>\n",
       "      <th>DepDelay</th>\n",
       "    </tr>\n",
       "  </thead>\n",
       "  <tbody>\n",
       "    <tr>\n",
       "      <th>0</th>\n",
       "      <td>2024</td>\n",
       "      <td>1</td>\n",
       "      <td>7</td>\n",
       "      <td>B6</td>\n",
       "      <td>DFW</td>\n",
       "      <td>LAS</td>\n",
       "      <td>276</td>\n",
       "      <td>0</td>\n",
       "      <td>0</td>\n",
       "      <td>3.477576</td>\n",
       "      <td>5.850242</td>\n",
       "    </tr>\n",
       "    <tr>\n",
       "      <th>1</th>\n",
       "      <td>2024</td>\n",
       "      <td>1</td>\n",
       "      <td>20</td>\n",
       "      <td>B6</td>\n",
       "      <td>DEN</td>\n",
       "      <td>ORD</td>\n",
       "      <td>2992</td>\n",
       "      <td>0</td>\n",
       "      <td>0</td>\n",
       "      <td>8.088139</td>\n",
       "      <td>2.337261</td>\n",
       "    </tr>\n",
       "    <tr>\n",
       "      <th>2</th>\n",
       "      <td>2024</td>\n",
       "      <td>1</td>\n",
       "      <td>29</td>\n",
       "      <td>WN</td>\n",
       "      <td>LAX</td>\n",
       "      <td>PHX</td>\n",
       "      <td>1840</td>\n",
       "      <td>0</td>\n",
       "      <td>0</td>\n",
       "      <td>2.568314</td>\n",
       "      <td>0.447216</td>\n",
       "    </tr>\n",
       "    <tr>\n",
       "      <th>3</th>\n",
       "      <td>2024</td>\n",
       "      <td>1</td>\n",
       "      <td>15</td>\n",
       "      <td>WN</td>\n",
       "      <td>LAS</td>\n",
       "      <td>DFW</td>\n",
       "      <td>2491</td>\n",
       "      <td>0</td>\n",
       "      <td>0</td>\n",
       "      <td>15.854559</td>\n",
       "      <td>16.430705</td>\n",
       "    </tr>\n",
       "    <tr>\n",
       "      <th>4</th>\n",
       "      <td>2024</td>\n",
       "      <td>1</td>\n",
       "      <td>11</td>\n",
       "      <td>B6</td>\n",
       "      <td>PHX</td>\n",
       "      <td>LAS</td>\n",
       "      <td>1335</td>\n",
       "      <td>0</td>\n",
       "      <td>0</td>\n",
       "      <td>15.396932</td>\n",
       "      <td>14.511776</td>\n",
       "    </tr>\n",
       "    <tr>\n",
       "      <th>5</th>\n",
       "      <td>2024</td>\n",
       "      <td>1</td>\n",
       "      <td>8</td>\n",
       "      <td>DL</td>\n",
       "      <td>ORD</td>\n",
       "      <td>PHX</td>\n",
       "      <td>2223</td>\n",
       "      <td>0</td>\n",
       "      <td>0</td>\n",
       "      <td>6.742422</td>\n",
       "      <td>11.858576</td>\n",
       "    </tr>\n",
       "    <tr>\n",
       "      <th>6</th>\n",
       "      <td>2024</td>\n",
       "      <td>1</td>\n",
       "      <td>29</td>\n",
       "      <td>AA</td>\n",
       "      <td>CLT</td>\n",
       "      <td>CLT</td>\n",
       "      <td>2556</td>\n",
       "      <td>0</td>\n",
       "      <td>0</td>\n",
       "      <td>-10.711002</td>\n",
       "      <td>-10.562375</td>\n",
       "    </tr>\n",
       "    <tr>\n",
       "      <th>7</th>\n",
       "      <td>2024</td>\n",
       "      <td>1</td>\n",
       "      <td>21</td>\n",
       "      <td>UA</td>\n",
       "      <td>ORD</td>\n",
       "      <td>LAS</td>\n",
       "      <td>1502</td>\n",
       "      <td>0</td>\n",
       "      <td>0</td>\n",
       "      <td>-9.719120</td>\n",
       "      <td>-5.299863</td>\n",
       "    </tr>\n",
       "    <tr>\n",
       "      <th>8</th>\n",
       "      <td>2024</td>\n",
       "      <td>1</td>\n",
       "      <td>7</td>\n",
       "      <td>WN</td>\n",
       "      <td>PHX</td>\n",
       "      <td>ORD</td>\n",
       "      <td>2870</td>\n",
       "      <td>0</td>\n",
       "      <td>0</td>\n",
       "      <td>-4.815500</td>\n",
       "      <td>-6.816052</td>\n",
       "    </tr>\n",
       "    <tr>\n",
       "      <th>9</th>\n",
       "      <td>2024</td>\n",
       "      <td>1</td>\n",
       "      <td>26</td>\n",
       "      <td>AA</td>\n",
       "      <td>LAX</td>\n",
       "      <td>SEA</td>\n",
       "      <td>2492</td>\n",
       "      <td>0</td>\n",
       "      <td>0</td>\n",
       "      <td>10.841667</td>\n",
       "      <td>15.443139</td>\n",
       "    </tr>\n",
       "  </tbody>\n",
       "</table>\n",
       "</div>"
      ],
      "text/plain": [
       "   Year  Month  DayofMonth Carrier Origin Dest  Distance  Cancelled  Diverted  \\\n",
       "0  2024      1           7      B6    DFW  LAS       276          0         0   \n",
       "1  2024      1          20      B6    DEN  ORD      2992          0         0   \n",
       "2  2024      1          29      WN    LAX  PHX      1840          0         0   \n",
       "3  2024      1          15      WN    LAS  DFW      2491          0         0   \n",
       "4  2024      1          11      B6    PHX  LAS      1335          0         0   \n",
       "5  2024      1           8      DL    ORD  PHX      2223          0         0   \n",
       "6  2024      1          29      AA    CLT  CLT      2556          0         0   \n",
       "7  2024      1          21      UA    ORD  LAS      1502          0         0   \n",
       "8  2024      1           7      WN    PHX  ORD      2870          0         0   \n",
       "9  2024      1          26      AA    LAX  SEA      2492          0         0   \n",
       "\n",
       "    ArrDelay   DepDelay  \n",
       "0   3.477576   5.850242  \n",
       "1   8.088139   2.337261  \n",
       "2   2.568314   0.447216  \n",
       "3  15.854559  16.430705  \n",
       "4  15.396932  14.511776  \n",
       "5   6.742422  11.858576  \n",
       "6 -10.711002 -10.562375  \n",
       "7  -9.719120  -5.299863  \n",
       "8  -4.815500  -6.816052  \n",
       "9  10.841667  15.443139  "
      ]
     },
     "metadata": {},
     "output_type": "display_data"
    },
    {
     "name": "stdout",
     "output_type": "stream",
     "text": [
      "\n",
      "Delay Statistics by Carrier:\n"
     ]
    },
    {
     "data": {
      "text/html": [
       "<div>\n",
       "<style scoped>\n",
       "    .dataframe tbody tr th:only-of-type {\n",
       "        vertical-align: middle;\n",
       "    }\n",
       "\n",
       "    .dataframe tbody tr th {\n",
       "        vertical-align: top;\n",
       "    }\n",
       "\n",
       "    .dataframe thead th {\n",
       "        text-align: right;\n",
       "    }\n",
       "</style>\n",
       "<table border=\"1\" class=\"dataframe\">\n",
       "  <thead>\n",
       "    <tr style=\"text-align: right;\">\n",
       "      <th></th>\n",
       "      <th>mean</th>\n",
       "      <th>median</th>\n",
       "      <th>std</th>\n",
       "      <th>count</th>\n",
       "    </tr>\n",
       "    <tr>\n",
       "      <th>Carrier</th>\n",
       "      <th></th>\n",
       "      <th></th>\n",
       "      <th></th>\n",
       "      <th></th>\n",
       "    </tr>\n",
       "  </thead>\n",
       "  <tbody>\n",
       "    <tr>\n",
       "      <th>DL</th>\n",
       "      <td>3.292466</td>\n",
       "      <td>4.930140</td>\n",
       "      <td>8.281100</td>\n",
       "      <td>9862</td>\n",
       "    </tr>\n",
       "    <tr>\n",
       "      <th>WN</th>\n",
       "      <td>4.212635</td>\n",
       "      <td>5.698792</td>\n",
       "      <td>9.442543</td>\n",
       "      <td>9824</td>\n",
       "    </tr>\n",
       "    <tr>\n",
       "      <th>AA</th>\n",
       "      <td>4.714814</td>\n",
       "      <td>5.967445</td>\n",
       "      <td>9.878811</td>\n",
       "      <td>9739</td>\n",
       "    </tr>\n",
       "    <tr>\n",
       "      <th>UA</th>\n",
       "      <td>5.112640</td>\n",
       "      <td>6.346458</td>\n",
       "      <td>10.212413</td>\n",
       "      <td>9603</td>\n",
       "    </tr>\n",
       "    <tr>\n",
       "      <th>B6</th>\n",
       "      <td>6.615305</td>\n",
       "      <td>7.467895</td>\n",
       "      <td>11.670381</td>\n",
       "      <td>9727</td>\n",
       "    </tr>\n",
       "  </tbody>\n",
       "</table>\n",
       "</div>"
      ],
      "text/plain": [
       "             mean    median        std  count\n",
       "Carrier                                      \n",
       "DL       3.292466  4.930140   8.281100   9862\n",
       "WN       4.212635  5.698792   9.442543   9824\n",
       "AA       4.714814  5.967445   9.878811   9739\n",
       "UA       5.112640  6.346458  10.212413   9603\n",
       "B6       6.615305  7.467895  11.670381   9727"
      ]
     },
     "metadata": {},
     "output_type": "display_data"
    }
   ],
   "source": [
    "print(\"Data Quality Summary:\\n\")\n",
    "print(df.info())\n",
    "print(\"\\nFirst 10 rows:\")\n",
    "display(df.head(10))\n",
    "\n",
    "print(\"\\nDelay Statistics by Carrier:\")\n",
    "carrier_stats = df.groupby('Carrier')['ArrDelay'].agg(['mean', 'median', 'std', 'count'])\n",
    "display(carrier_stats.sort_values('mean'))"
   ]
  },
  {
   "cell_type": "markdown",
   "metadata": {},
   "source": [
    "## Export Sample Data"
   ]
  },
  {
   "cell_type": "code",
   "execution_count": 6,
   "metadata": {},
   "outputs": [
    {
     "name": "stdout",
     "output_type": "stream",
     "text": [
      "✓ Sample data exported to: ../data/airline_ontime.csv\n",
      "✓ File size: 10.4 MB\n",
      "✓ Total rows: 50,000\n",
      "\n",
      "📝 Next step: Run analysis.ipynb to analyze this data\n"
     ]
    }
   ],
   "source": [
    "# Save to data directory\n",
    "output_path = '../data/airline_ontime.csv'\n",
    "df.to_csv(output_path, index=False)\n",
    "\n",
    "print(f\"✓ Sample data exported to: {output_path}\")\n",
    "print(f\"✓ File size: {df.memory_usage(deep=True).sum() / 1024**2:.1f} MB\")\n",
    "print(f\"✓ Total rows: {len(df):,}\")\n",
    "print(\"\\n📝 Next step: Run analysis.ipynb to analyze this data\")"
   ]
  },
  {
   "cell_type": "markdown",
   "metadata": {},
   "source": [
    "## Validation: Check Delay Distribution"
   ]
  },
  {
   "cell_type": "code",
   "execution_count": 7,
   "metadata": {},
   "outputs": [
    {
     "data": {
      "image/png": "[encoded data removed]",
      "text/plain": [
       "<Figure size 1400x500 with 2 Axes>"
      ]
     },
     "metadata": {},
     "output_type": "display_data"
    },
    {
     "name": "stdout",
     "output_type": "stream",
     "text": [
      "✓ Validation plot saved to outputs/sample_data_validation.png\n"
     ]
    }
   ],
   "source": [
    "import matplotlib.pyplot as plt\n",
    "import seaborn as sns\n",
    "\n",
    "fig, axes = plt.subplots(1, 2, figsize=(14, 5))\n",
    "\n",
    "# Histogram of delays\n",
    "axes[0].hist(df['ArrDelay'].dropna(), bins=50, edgecolor='black', alpha=0.7)\n",
    "axes[0].axvline(0, color='red', linestyle='--', label='On-time')\n",
    "axes[0].set_xlabel('Arrival Delay (minutes)')\n",
    "axes[0].set_ylabel('Frequency')\n",
    "axes[0].set_title('Distribution of Arrival Delays')\n",
    "axes[0].legend()\n",
    "axes[0].grid(True, alpha=0.3)\n",
    "\n",
    "# Box plot by carrier\n",
    "df_plot = df[df['ArrDelay'].notna()]\n",
    "carrier_order = df_plot.groupby('Carrier')['ArrDelay'].median().sort_values().index\n",
    "sns.boxplot(data=df_plot, x='Carrier', y='ArrDelay', order=carrier_order, ax=axes[1])\n",
    "axes[1].axhline(0, color='red', linestyle='--', alpha=0.5)\n",
    "axes[1].set_xlabel('Carrier')\n",
    "axes[1].set_ylabel('Arrival Delay (minutes)')\n",
    "axes[1].set_title('Delay Distribution by Carrier')\n",
    "axes[1].grid(True, alpha=0.3, axis='y')\n",
    "\n",
    "plt.tight_layout()\n",
    "plt.savefig('../outputs/sample_data_validation.png', dpi=300, bbox_inches='tight')\n",
    "plt.show()\n",
    "\n",
    "print(\"✓ Validation plot saved to outputs/sample_data_validation.png\")"
   ]
  }
 ],
 "metadata": {
  "kernelspec": {
   "display_name": "Python 3 (ipykernel)",
   "language": "python",
   "name": "python3"
  },
  "language_info": {
   "codemirror_mode": {
    "name": "ipython",
    "version": 3
   },
   "file_extension": ".py",
   "mimetype": "text/x-python",
   "name": "python",
   "nbconvert_exporter": "python",
   "pygments_lexer": "ipython3",
   "version": "3.12.7"
  }
 },
 "nbformat": 4,
 "nbformat_minor": 4
}
