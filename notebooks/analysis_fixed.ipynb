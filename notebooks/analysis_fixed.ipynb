{
 "cells": [
  {
   "cell_type": "markdown",
   "metadata": {},
   "source": [
    "# Airline Delay Economics Analysis\n",
    "## Which Airlines Deliver the Best Value for Money?\n",
    "\n",
    "**Goal:** Translate flight delay data into an economic efficiency metric to determine which airlines and airports offer the best \"value for money\" in on-time performance.\n",
    "\n",
    "**Dataset:** Bureau of Transportation Statistics — Airline On-Time Performance Data\n",
    "\n",
    "**Note:** This version uses the correct column names for BTS data downloaded in 2024."
   ]
  },
  {
   "cell_type": "markdown",
   "metadata": {},
   "source": [
    "## 1. Setup & Imports"
   ]
  },
  {
   "cell_type": "code",
   "execution_count": null,
   "metadata": {},
   "outputs": [],
   "source": [
    "import pandas as pd\n",
    "import numpy as np\n",
    "import matplotlib.pyplot as plt\n",
    "import seaborn as sns\n",
    "from sklearn.linear_model import LinearRegression\n",
    "from sklearn.metrics import r2_score\n",
    "import warnings\n",
    "warnings.filterwarnings('ignore')\n",
    "\n",
    "# Set display options\n",
    "pd.set_option('display.max_columns', None)\n",
    "pd.set_option('display.float_format', '{:.2f}'.format)\n",
    "\n",
    "# Set visualization style\n",
    "sns.set_style('whitegrid')\n",
    "plt.rcParams['figure.figsize'] = (12, 6)\n",
    "\n",
    "print(\"✓ Imports complete\")"
   ]
  },
  {
   "cell_type": "markdown",
   "metadata": {},
   "source": [
    "## 2. Data Loading\n",
    "\n",
    "**BTS Column Names (2024 format):**\n",
    "- `YEAR`, `MONTH`, `DAY_OF_MONTH`\n",
    "- `OP_UNIQUE_CARRIER` (airline code)\n",
    "- `ORIGIN`, `DEST` (airport codes)\n",
    "- `ARR_DELAY`, `DEP_DELAY` (in minutes)\n",
    "- `DISTANCE` (in miles)\n",
    "- `CANCELLED`, `DIVERTED`"
   ]
  },
  {
   "cell_type": "code",
   "execution_count": null,
   "metadata": {},
   "outputs": [],
   "source": [
    "# Define columns to load (using correct BTS column names)\n",
    "columns_to_load = [\n",
    "    'YEAR', 'MONTH', 'DAY_OF_MONTH',\n",
    "    'OP_UNIQUE_CARRIER', 'ORIGIN', 'DEST',\n",
    "    'ARR_DELAY', 'DEP_DELAY', 'DISTANCE',\n",
    "    'CANCELLED', 'DIVERTED'\n",
    "]\n",
    "\n",
    "# Load data\n",
    "data_file = '../data/airline_ontime.csv'\n",
    "\n",
    "try:\n",
    "    df = pd.read_csv(data_file, usecols=columns_to_load, low_memory=False)\n",
    "    \n",
    "    # Rename columns to match our analysis code\n",
    "    df = df.rename(columns={\n",
    "        'YEAR': 'Year',\n",
    "        'MONTH': 'Month',\n",
    "        'DAY_OF_MONTH': 'DayofMonth',\n",
    "        'OP_UNIQUE_CARRIER': 'Carrier',\n",
    "        'ORIGIN': 'Origin',\n",
    "        'DEST': 'Dest',\n",
    "        'ARR_DELAY': 'ArrDelay',\n",
    "        'DEP_DELAY': 'DepDelay',\n",
    "        'DISTANCE': 'Distance',\n",
    "        'CANCELLED': 'Cancelled',\n",
    "        'DIVERTED': 'Diverted'\n",
    "    })\n",
    "    \n",
    "    print(f\"✓ Data loaded: {len(df):,} rows\")\n",
    "    print(f\"✓ Memory usage: {df.memory_usage(deep=True).sum() / 1024**2:.1f} MB\")\n",
    "    print(f\"✓ Columns: {list(df.columns)}\")\n",
    "    \nexcept FileNotFoundError:\n",
    "    print(\"❌ Data file not found. Please download BTS data and place it in ../data/\")\n",
    "    print(\"   See DATA_DOWNLOAD_GUIDE.md for instructions\")\n",
    "    df = None"
   ]
  },
  {
   "cell_type": "code",
   "execution_count": null,
   "metadata": {},
   "outputs": [],
   "source": [
    "# Display first few rows and basic info\n",
    "if df is not None:\n",
    "    display(df.head())\n",
    "    print(\"\\nDataset Info:\")\n",
    "    df.info()"
   ]
  },
  {
   "cell_type": "markdown",
   "metadata": {},
   "source": [
    "## 3. Data Cleaning"
   ]
  },
  {
   "cell_type": "code",
   "execution_count": null,
   "metadata": {},
   "outputs": [],
   "source": [
    "if df is not None:\n",
    "    print(f\"Starting rows: {len(df):,}\\n\")\n",
    "    \n",
    "    # Step 1: Remove cancelled and diverted flights\n",
    "    df_clean = df[(df['Cancelled'] == 0) & (df['Diverted'] == 0)].copy()\n",
    "    print(f\"After removing cancelled/diverted: {len(df_clean):,} rows\")\n",
    "    \n",
    "    # Step 2: Remove rows with missing delay values\n",
    "    df_clean = df_clean.dropna(subset=['ArrDelay', 'DepDelay', 'Distance'])\n",
    "    print(f\"After removing missing values: {len(df_clean):,} rows\")\n",
    "    \n",
    "    # Step 3: Filter out extreme outliers (delays > 500 minutes or < -60 minutes)\n",
    "    df_clean = df_clean[\n",
    "        (df_clean['ArrDelay'] >= -60) & \n",
    "        (df_clean['ArrDelay'] <= 500) &\n",
    "        (df_clean['Distance'] > 0)\n",
    "    ]\n",
    "    print(f\"After removing outliers: {len(df_clean):,} rows\")\n",
    "    \n",
    "    # Step 4: Filter to top carriers and airports for MVP\n",
    "    top_carriers = df_clean['Carrier'].value_counts().head(5).index\n",
    "    top_airports = df_clean['Origin'].value_counts().head(10).index\n",
    "    \n",
    "    df_mvp = df_clean[\n",
    "        df_clean['Carrier'].isin(top_carriers) &\n",
    "        df_clean['Origin'].isin(top_airports)\n",
    "    ].copy()\n",
    "    \n",
    "    print(f\"\\nMVP subset (top 5 carriers, top 10 airports): {len(df_mvp):,} rows\")\n",
    "    print(f\"\\nTop 5 Carriers: {list(top_carriers)}\")\n",
    "    print(f\"Top 10 Airports: {list(top_airports)}\")\n",
    "    \n",
    "    # Clean up\n",
    "    df = df_mvp\n",
    "    del df_clean, df_mvp\n",
    "    \n",
    "    print(\"\\n✓ Data cleaning complete\")"
   ]
  },
  {
   "cell_type": "markdown",
   "metadata": {},
   "source": [
    "## 4. Feature Computation"
   ]
  },
  {
   "cell_type": "code",
   "execution_count": null,
   "metadata": {},
   "outputs": [],
   "source": [
    "if df is not None:\n",
    "    # FAA estimated cost per minute of delay\n",
    "    COST_PER_MINUTE = 74\n",
    "    \n",
    "    # Compute delay cost (only for positive delays)\n",
    "    df['delay_cost'] = df['ArrDelay'].apply(lambda x: max(0, x) * COST_PER_MINUTE)\n",
    "    \n",
    "    # Compute cost per mile (normalized efficiency metric)\n",
    "    df['cost_per_mile'] = df['delay_cost'] / df['Distance']\n",
    "    \n",
    "    # Binary flag for significant delays (> 15 minutes)\n",
    "    df['is_delayed'] = (df['ArrDelay'] > 15).astype(int)\n",
    "    \n",
    "    # Display sample of new features\n",
    "    print(\"Sample of computed features:\\n\")\n",
    "    display(df[['Carrier', 'Origin', 'ArrDelay', 'Distance', 'delay_cost', 'cost_per_mile', 'is_delayed']].head(10))\n",
    "    \n",
    "    print(\"\\n✓ Feature computation complete\")"
   ]
  },
  {
   "cell_type": "markdown",
   "metadata": {},
   "source": [
    "## 5. Airline-Level Aggregation"
   ]
  },
  {
   "cell_type": "code",
   "execution_count": null,
   "metadata": {},
   "outputs": [],
   "source": [
    "if df is not None:\n",
    "    airline_summary = df.groupby('Carrier').agg({\n",
    "        'ArrDelay': ['mean', 'median', 'std'],\n",
    "        'delay_cost': ['mean', 'sum'],\n",
    "        'cost_per_mile': 'mean',\n",
    "        'is_delayed': ['sum', 'mean'],\n",
    "        'Distance': 'mean',\n",
    "        'Carrier': 'count'\n",
    "    }).reset_index()\n",
    "    \n",
    "    # Flatten column names\n",
    "    airline_summary.columns = [\n",
    "        'Carrier', \n",
    "        'avg_delay_min', 'median_delay_min', 'std_delay_min',\n",
    "        'avg_delay_cost', 'total_delay_cost',\n",
    "        'avg_cost_per_mile',\n",
    "        'num_delayed_flights', 'delay_rate',\n",
    "        'avg_distance',\n",
    "        'num_flights'\n",
    "    ]\n",
    "    \n",
    "    # Sort by cost per mile (efficiency)\n",
    "    airline_summary = airline_summary.sort_values('avg_cost_per_mile')\n",
    "    \n",
    "    print(\"Airline Performance Summary:\\n\")\n",
    "    display(airline_summary)\n",
    "    \n",
    "    # Export for dashboard\n",
    "    airline_summary.to_csv('../outputs/airline_summary.csv', index=False)\n",
    "    print(\"\\n✓ Airline summary exported to outputs/airline_summary.csv\")"
   ]
  },
  {
   "cell_type": "markdown",
   "metadata": {},
   "source": [
    "## 6. Airport-Level Aggregation"
   ]
  },
  {
   "cell_type": "code",
   "execution_count": null,
   "metadata": {},
   "outputs": [],
   "source": [
    "if df is not None:\n",
    "    airport_summary = df.groupby('Origin').agg({\n",
    "        'ArrDelay': ['mean', 'median'],\n",
    "        'delay_cost': ['mean', 'sum'],\n",
    "        'cost_per_mile': 'mean',\n",
    "        'is_delayed': 'mean',\n",
    "        'Origin': 'count'\n",
    "    }).reset_index()\n",
    "    \n",
    "    # Flatten column names\n",
    "    airport_summary.columns = [\n",
    "        'Airport',\n",
    "        'avg_delay_min', 'median_delay_min',\n",
    "        'avg_delay_cost', 'total_delay_cost',\n",
    "        'avg_cost_per_mile',\n",
    "        'delay_rate',\n",
    "        'num_flights'\n",
    "    ]\n",
    "    \n",
    "    # Sort by cost per mile\n",
    "    airport_summary = airport_summary.sort_values('avg_cost_per_mile')\n",
    "    \n",
    "    print(\"Airport Performance Summary:\\n\")\n",
    "    display(airport_summary)\n",
    "    \n",
    "    # Export for dashboard\n",
    "    airport_summary.to_csv('../outputs/airport_summary.csv', index=False)\n",
    "    print(\"\\n✓ Airport summary exported to outputs/airport_summary.csv\")"
   ]
  },
  {
   "cell_type": "markdown",
   "metadata": {},
   "source": [
    "## 7. Linear Regression: Distance vs Delay"
   ]
  },
  {
   "cell_type": "code",
   "execution_count": null,
   "metadata": {},
   "outputs": [],
   "source": [
    "if df is not None:\n",
    "    # Prepare data for regression\n",
    "    X = df[['Distance']].values\n",
    "    y = df['ArrDelay'].values\n",
    "    \n",
    "    # Fit linear regression model\n",
    "    model = LinearRegression()\n",
    "    model.fit(X, y)\n",
    "    \n",
    "    # Get predictions and metrics\n",
    "    y_pred = model.predict(X)\n",
    "    r2 = r2_score(y, y_pred)\n",
    "    \n",
    "    # Print results\n",
    "    print(\"Linear Regression Results: ArrDelay ~ Distance\\n\")\n",
    "    print(f\"Intercept: {model.intercept_:.2f} minutes\")\n",
    "    print(f\"Slope: {model.coef_[0]:.4f} minutes per mile\")\n",
    "    print(f\"  → Extra delay per 100 miles: {model.coef_[0] * 100:.2f} minutes\")\n",
    "    print(f\"R²: {r2:.4f}\")\n",
    "    print(f\"  → Distance explains {r2*100:.2f}% of delay variability\")\n",
    "    \n",
    "    print(\"\\n✓ Regression analysis complete\")"
   ]
  },
  {
   "cell_type": "markdown",
   "metadata": {},
   "source": [
    "## 8. Visualization"
   ]
  },
  {
   "cell_type": "code",
   "execution_count": null,
   "metadata": {},
   "outputs": [],
   "source": [
    "if df is not None:\n",
    "    plt.figure(figsize=(12, 6))\n",
    "    \n",
    "    # Sample for visualization\n",
    "    sample_df = df.sample(min(5000, len(df)), random_state=42)\n",
    "    \n",
    "    plt.scatter(sample_df['Distance'], sample_df['ArrDelay'], \n",
    "                alpha=0.3, s=10, label='Actual delays')\n",
    "    \n",
    "    # Plot regression line\n",
    "    X_range = np.array([[df['Distance'].min()], [df['Distance'].max()]])\n",
    "    y_range = model.predict(X_range)\n",
    "    plt.plot(X_range, y_range, 'r-', linewidth=2, \n",
    "             label=f'Regression line (R²={r2:.3f})')\n",
    "    \n",
    "    plt.xlabel('Distance (miles)', fontsize=12)\n",
    "    plt.ylabel('Arrival Delay (minutes)', fontsize=12)\n",
    "    plt.title('Flight Distance vs Arrival Delay', fontsize=14, fontweight='bold')\n",
    "    plt.legend()\n",
    "    plt.grid(True, alpha=0.3)\n",
    "    \n",
    "    plt.tight_layout()\n",
    "    plt.savefig('../outputs/regression_plot.png', dpi=300, bbox_inches='tight')\n",
    "    plt.show()\n",
    "    \n",
    "    print(\"✓ Regression plot saved\")"
   ]
  },
  {
   "cell_type": "markdown",
   "metadata": {},
   "source": [
    "## 9. Export for Dashboard"
   ]
  },
  {
   "cell_type": "code",
   "execution_count": null,
   "metadata": {},
   "outputs": [],
   "source": [
    "if df is not None:\n",
    "    # Export full dataset\n",
    "    tableau_export = df[[\n",
    "        'Year', 'Month', 'DayofMonth',\n",
    "        'Carrier', 'Origin', 'Dest',\n",
    "        'Distance', 'ArrDelay', 'DepDelay',\n",
    "        'delay_cost', 'cost_per_mile', 'is_delayed'\n",
    "    ]].copy()\n",
    "    \n",
    "    tableau_export.to_csv('../outputs/full_dataset_for_tableau.csv', index=False)\n",
    "    \n",
    "    print(f\"✓ Full dataset exported: {len(tableau_export):,} rows\")\n",
    "    print(f\"✓ Files ready in outputs/ directory\")\n",
    "    print(f\"\\n🚀 Next step: Run dashboard_app_premium.py\")"
   ]
  }
 ],
 "metadata": {
  "kernelspec": {
   "display_name": "Python 3",
   "language": "python",
   "name": "python3"
  },
  "language_info": {
   "name": "python",
   "version": "3.9.0"
  }
 },
 "nbformat": 4,
 "nbformat_minor": 4
}
